{
 "cells": [
  {
   "cell_type": "markdown",
   "metadata": {},
   "source": [
    "載入模型所必須要的相依套件"
   ]
  },
  {
   "cell_type": "code",
   "execution_count": 11,
   "metadata": {},
   "outputs": [],
   "source": [
    "import pandas as pd\n",
    "import seaborn as sn\n",
    "import matplotlib.pyplot as plt\n",
    "import torch\n",
    "from torch import nn\n",
    "from tqdm import tqdm\n",
    "from transformers import BertModel, BertTokenizer\n",
    "import sklearn.metrics as metrics"
   ]
  },
  {
   "cell_type": "markdown",
   "metadata": {},
   "source": [
    "定義參數"
   ]
  },
  {
   "cell_type": "code",
   "execution_count": 12,
   "metadata": {},
   "outputs": [],
   "source": [
    "PRE_TRAINED_MODEL_NAME = \"bert-base-cased\"\n",
    "DEVICE = torch.device(\"cuda:0\" if torch.cuda.is_available() else \"cpu\")\n",
    "TOKENIZER = BertTokenizer.from_pretrained(PRE_TRAINED_MODEL_NAME)\n",
    "MAX_LEN = 160"
   ]
  },
  {
   "cell_type": "markdown",
   "metadata": {},
   "source": [
    "inferance模型主體"
   ]
  },
  {
   "cell_type": "code",
   "execution_count": 16,
   "metadata": {},
   "outputs": [],
   "source": [
    "class SentimentRegressor(nn.Module):\n",
    "    \"\"\"\n",
    "    BERT電影影評評分迴歸模型的主體\n",
    "    Bert sentiment regression model for review sentiment analyzer\n",
    "    \"\"\"\n",
    "    def __init__(self):\n",
    "        super(SentimentRegressor, self).__init__()\n",
    "        self.bert = BertModel.from_pretrained(PRE_TRAINED_MODEL_NAME)\n",
    "        self.out = nn.Linear(self.bert.config.hidden_size, 1)\n",
    "\n",
    "    def load_model(self, path):\n",
    "        \"\"\"\n",
    "        載入先前訓練好的權重檔\n",
    "        \"\"\"\n",
    "        self.load_state_dict(torch.load(path, map_location=DEVICE))\n",
    "\n",
    "    def predicts(self, text):\n",
    "        \"\"\"\n",
    "        主要的迴歸器，將input電影評論輸入模型，將輸出轉化為預測評分\n",
    "        make prediction according to the text with the given model\n",
    "        \"\"\"\n",
    "        encoding = TOKENIZER.encode_plus(\n",
    "            text,\n",
    "            add_special_tokens=True,\n",
    "            max_length=MAX_LEN,\n",
    "            return_token_type_ids=False,\n",
    "            pad_to_max_length=True,\n",
    "            return_attention_mask=True,\n",
    "            return_tensors='pt',\n",
    "        )\n",
    "        _, output = self.bert(\n",
    "           input_ids=encoding[\"input_ids\"],\n",
    "            attention_mask=encoding[\"attention_mask\"]\n",
    "        )\n",
    "        return float(self.out(output))"
   ]
  },
  {
   "cell_type": "markdown",
   "metadata": {},
   "source": [
    "讀取先前由data_extract.py所處理完的資料，去test.json前後各200比做為測試資料"
   ]
  },
  {
   "cell_type": "code",
   "execution_count": 19,
   "metadata": {},
   "outputs": [],
   "source": [
    "VAL = pd.read_json(\"./data/test.json\")\n",
    "TEST = list(VAL.comment)[:200] + list(VAL.comment)[-200:]\n",
    "TRUE = list(VAL.score)[:200] + list(VAL.score)[-200:]\n",
    "TRUE = list(VAL.score)[:200] + list(VAL.score)[-200:]"
   ]
  },
  {
   "cell_type": "markdown",
   "metadata": {},
   "source": [
    "預測測試資料"
   ]
  },
  {
   "cell_type": "code",
   "execution_count": null,
   "metadata": {},
   "outputs": [],
   "source": [
    "MODEL = SentimentRegressor()\n",
    "MODEL.load_model(\"./regression_model/best_model_state.bin\")\n",
    "prob, predict = MODEL.predicts(TEST[1].replace(\"<br />\", \" \"))\n",
    "print(prob)\n",
    "data = []\n",
    "for test in tqdm(TEST):\n",
    "    predict = MODEL.predicts(test.replace(\"<br />\", \" \"))\n",
    "    data.append(round(predict))"
   ]
  },
  {
   "cell_type": "markdown",
   "metadata": {},
   "source": [
    "計算accuracy與r square"
   ]
  },
  {
   "cell_type": "code",
   "execution_count": 5,
   "metadata": {},
   "outputs": [
    {
     "name": "stdout",
     "output_type": "stream",
     "text": [
      "0.3125\n",
      "0.7420466694209711\n"
     ]
    }
   ],
   "source": [
    "print(metrics.accuracy_score(TRUE, data))\n",
    "print(metrics.r2_score(TRUE, data))"
   ]
  },
  {
   "cell_type": "markdown",
   "metadata": {},
   "source": [
    "產生混淆矩陣"
   ]
  },
  {
   "cell_type": "code",
   "execution_count": 6,
   "metadata": {},
   "outputs": [
    {
     "data": {
      "image/png": "[encoded data removed]",
      "text/plain": [
       "<Figure size 432x288 with 2 Axes>"
      ]
     },
     "metadata": {
      "needs_background": "light"
     },
     "output_type": "display_data"
    }
   ],
   "source": [
    "RESULT = pd.DataFrame({\"True\": TRUE, \"Predict\": data})\n",
    "confusion_matrix = pd.crosstab(RESULT[\"True\"], RESULT[\"Predict\"], rownames=['Actual'], colnames=['Predicted'])\n",
    "sn.heatmap(confusion_matrix, annot=True)\n",
    "plt.show()"
   ]
  }
 ],
 "metadata": {
  "kernelspec": {
   "display_name": "Python 3",
   "language": "python",
   "name": "python3"
  },
  "language_info": {
   "codemirror_mode": {
    "name": "ipython",
    "version": 3
   },
   "file_extension": ".py",
   "mimetype": "text/x-python",
   "name": "python",
   "nbconvert_exporter": "python",
   "pygments_lexer": "ipython3",
   "version": "3.7.5"
  }
 },
 "nbformat": 4,
 "nbformat_minor": 4
}
